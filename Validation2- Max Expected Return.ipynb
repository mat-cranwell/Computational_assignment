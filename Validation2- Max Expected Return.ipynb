{
 "cells": [
  {
   "cell_type": "markdown",
   "metadata": {},
   "source": [
    "Using Bertam's Analytic solutions for optimal statistical arbitrage trading and Optimal trading strategies for Ito diffusion processes \n",
    "\n",
    "We model the price of a spread $ {s}_{t} $ as,\n",
    "\n",
    "$$\n",
    "{s}_{t} = {e}^{{X}_{t}}\n",
    "$$\n",
    "\n",
    "Where ${X}_{t} $ satisfies the following stochastic equation, \n",
    "\n",
    "$$\n",
    "{dX}_{t} = {-}\\alpha{X}_{t}{dt}{ + }\\sigma{dW}_{t}\n",
    "$$\n",
    "\n",
    "and $\\alpha > 0 $, $\\sigma > 0$, and ${W}_{t}$ is a Wiener process\n",
    "\n",
    "A continuous time trading strategy is defined by entering a trade when, ${X}_{t} = {a}$, exiting the trade when ${X}_{t} = {m}$, and waiting until the process returns to ${X}_{t} = {a}$ \n",
    "\n",
    "The goal of the strategy is to determine appropriate levels for ${a}$ and ${m}$ such that expected return is maximised or maximising with respect to sharpe ratio. \n",
    "\n",
    "\n",
    "### Mazimising Expected return\n",
    "Using Bertram's equation (18) we can find the value for ${a}$ that maximises expected return for the strategy. Using values obtained for $\\alpha$, $\\sigma$ and transaction costs ${c}$, where ${a} < 0$ and ${m} = -{a}$. \n",
    "\n",
    "$${a} = -\\frac{c}{4} - \\frac{{c}^{2}{\\alpha}}{4({c^3}{\\alpha^3} + 24{c}{\\alpha^2}{\\sigma^2} -4{\\sqrt{3{c^4}{\\alpha^5}{\\sigma^2} + 36{c^2}{\\alpha^4}{\\sigma}}})^{1/3}}- \\frac{({c^3}{\\alpha^3} + 24{c}{\\alpha^2}{\\sigma^2} -4{\\sqrt{3{c^4}{\\alpha^5}{\\sigma^2} +36{c^2}{\\alpha^4}{\\sigma^4}}})^{1/3}}{4{\\alpha}}$$\n",
    "\n",
    "\n",
    "Below displays the calculation and the validation for the maximum epected return"
   ]
  },
  {
   "cell_type": "code",
   "execution_count": null,
   "metadata": {},
   "outputs": [],
   "source": [
    "import numpy as np\n",
    "#~~~~~~~~~~~~~~~~~~~~~~~~~~~~~~~~~~~~~~~~~~~~~\n",
    "#~~~~~~~FUNCTION: Max Expected Return~~~~~~~~~\n",
    "#~~~~~~~~~~~~~~~~~~~~~~~~~~~~~~~~~~~~~~~~~~~~~\n",
    "# Inputs: \n",
    "#     - a -> alpha value found through calibration of the OU process\n",
    "#     - n -> sigma vlue found through calibration of the OU process\n",
    "#     - c -> transaction costs \n",
    "# Output:\n",
    "#   the function calculate optimal entry threshold, a, in accordance with bertrams function \n",
    "def mer(a,n,c):\n",
    "    var1 = -c/4\n",
    "    denom1 = (c**3*a**3) + (24*c*a**2*n**2)\n",
    "    denom2 = 4*(np.sqrt(((3*c**4*a**5*n**2) + (36*c**2*a**4*n**4))))\n",
    "    denom3 = 4 * ((denom1 - denom2)**(1/3))\n",
    "    var2 = (c**2*a) / denom3\n",
    "    numer1 = c**3*a**3 + (24*c*a**2*n**2)\n",
    "    numer2 = 4 * np.sqrt((3*c**4*a**5*n**2 + 36*c**2*a**4*n**4))\n",
    "    numer3 = ((numer1 - numer2))**(1/3)\n",
    "    var3 = numer3 / (4*a)\n",
    "    res = var1 - var2 - var3\n",
    "    return res"
   ]
  },
  {
   "cell_type": "code",
   "execution_count": 15,
   "metadata": {},
   "outputs": [
    {
     "name": "stdout",
     "output_type": "stream",
     "text": [
      "-0.00487500478007779\n",
      "-0.006354930125607594\n",
      "-0.007491010302362016\n",
      "-0.008468243601591667\n",
      "-0.009353129481214492\n",
      "-0.010178034089253355\n",
      "-0.010178034089253355\n",
      "-0.016591733968014284\n",
      "-0.01826659145361514\n",
      "-0.019934125311568858\n"
     ]
    }
   ],
   "source": [
    "# Validation \n",
    "a = {}\n",
    "#calculate a with varying trsnsaction costs \n",
    "\n",
    "for i in [0.001,0.002,0.003,0.004,0.005,0.006,0.006,0.015, 0.0175,0.02]:\n",
    "    a[i] = mer(180.967,0.1538,i)\n",
    "    print ( mer(180.967,0.1538,i))"
   ]
  },
  {
   "cell_type": "code",
   "execution_count": 14,
   "metadata": {},
   "outputs": [
    {
     "data": {
      "image/png": "[encoded data removed]",
      "text/plain": [
       "<Figure size 1080x216 with 1 Axes>"
      ]
     },
     "metadata": {
      "needs_background": "light"
     },
     "output_type": "display_data"
    }
   ],
   "source": [
    "# Validation\n",
    "import matplotlib.pyplot as plt\n",
    "#plot ofoptimal entry vs transaction costs\n",
    "plt.rcParams[\"figure.figsize\"] = (15,3)\n",
    "plt.plot(*zip(*sorted(a.items())))\n",
    "plt.xlabel('Trans cost (c)')\n",
    "plt.ylabel('Optimal Entry (a)')\n",
    "plt.title('Optimal Trade Entry vs Trans. Costs')\n",
    "plt.show();"
   ]
  },
  {
   "cell_type": "code",
   "execution_count": null,
   "metadata": {},
   "outputs": [],
   "source": []
  }
 ],
 "metadata": {
  "kernelspec": {
   "display_name": "Python 3",
   "language": "python",
   "name": "python3"
  },
  "language_info": {
   "codemirror_mode": {
    "name": "ipython",
    "version": 3
   },
   "file_extension": ".py",
   "mimetype": "text/x-python",
   "name": "python",
   "nbconvert_exporter": "python",
   "pygments_lexer": "ipython3",
   "version": "3.7.3"
  }
 },
 "nbformat": 4,
 "nbformat_minor": 2
}
