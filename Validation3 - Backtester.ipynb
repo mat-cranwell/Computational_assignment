{
 "cells": [
  {
   "cell_type": "markdown",
   "metadata": {},
   "source": [
    "### Backtester\n",
    "\n",
    "Below is a detailed backtester function to be used to backtest each spread trading strategy "
   ]
  },
  {
   "cell_type": "code",
   "execution_count": 1,
   "metadata": {},
   "outputs": [],
   "source": [
    "import pandas as pd\n",
    "import numpy as np\n",
    "\n",
    "#~~~~~~~~~~~~~~~~~~~~~~~~~~~~~~~~~~~~~~~~~~~~~~~~\n",
    "#~~~~~~~~~~~FUNCTION: Backtester ~~~~~~~~~~~~~~~~\n",
    "#~~~~~~~~~~~~~~~~~~~~~~~~~~~~~~~~~~~~~~~~~~~~~~~~\n",
    "# Inputs:\n",
    "#     - a optimal entry threshold\n",
    "#     - mu long termmean of the OU process to adjust optimal entry\n",
    "#     - order - the sreadto be tested\n",
    "#     -oil_data - dataframe containg relevant data \n",
    "\n",
    "def backtester(a, mu, order, oil_data):\n",
    "    bt_df = pd.DataFrame()\n",
    "    #Calculate log spread\n",
    "    bt_df['spread'] = np.log((oil_data[order[0]]/oil_data[order[1]]))\n",
    "    \n",
    "    # calculate log returns of each asset \n",
    "    bt_df['A_returns'] = np.log(oil_data[order[0]]/oil_data[order[0]].shift(1))\n",
    "    bt_df['B_returns'] = np.log(oil_data[order[1]]/oil_data[order[1]].shift(1))\n",
    "    \n",
    "    #Calc optimal entry/exitthresholds\n",
    "    entry = a + mu\n",
    "    exit = -1*a + mu\n",
    "    \n",
    "    # create long_short signals \n",
    "    # long trade when spread < entry\n",
    "    # short trade when spread > exit\n",
    "    bt_df['Long_short'] = 0\n",
    "    bt_df['Long_short'] = np.where(bt_df.spread < entry, 1, bt_df.Long_short)\n",
    "    bt_df['Long_short'] = np.where(bt_df.spread > exit, -1, bt_df.Long_short)\n",
    "    \n",
    "    # Fill neutral signals with previous signal\n",
    "    bt_df['Long_short_fill'] =  bt_df['Long_short'].replace(to_replace=0, method='ffill')\n",
    "    \n",
    "    # Calculate dail profit and loss for active spread trading\n",
    "    bt_df['pnl'] = bt_df.Long_short_fill * bt_df.B_returns - bt_df.Long_short_fill * bt_df.A_returns\n",
    "    \n",
    "    # Calculate total return\n",
    "    total_return = bt_df.pnl.sum()\n",
    "    \n",
    "    # Calcualte sharpe ratio\n",
    "    sharpe = bt_df.pnl.mean() / bt_df.pnl.std() * np.sqrt(252)\n",
    "    \n",
    "    #calculate mean daily return \n",
    "    mean_return = bt_df.pnl.mean()\n",
    "    \n",
    "    # Calculate trade count\n",
    "    trade_count = 0 \n",
    "    for i in range(1,len(bt_df)):\n",
    "        if bt_df.loc[i, 'Long_short_fill'] != bt_df.loc[i-1, 'Long_short_fill']:\n",
    "            trade_count += 1\n",
    "    # calculate average hold time        \n",
    "    if trade_count != 0:\n",
    "        avg_hold_time = len(bt_df) / trade_count\n",
    "    else:\n",
    "        avg_hold_time = 0 \n",
    "    return total_return, mean_return, sharpe, trade_count, avg_hold_time"
   ]
  },
  {
   "cell_type": "code",
   "execution_count": null,
   "metadata": {},
   "outputs": [],
   "source": []
  }
 ],
 "metadata": {
  "kernelspec": {
   "display_name": "Python 3",
   "language": "python",
   "name": "python3"
  },
  "language_info": {
   "codemirror_mode": {
    "name": "ipython",
    "version": 3
   },
   "file_extension": ".py",
   "mimetype": "text/x-python",
   "name": "python",
   "nbconvert_exporter": "python",
   "pygments_lexer": "ipython3",
   "version": "3.7.3"
  }
 },
 "nbformat": 4,
 "nbformat_minor": 2
}
