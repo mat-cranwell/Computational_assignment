{
 "cells": [
  {
   "cell_type": "markdown",
   "metadata": {},
   "source": [
    "## Calibrating the Ornstein-Uhlenbeck (Vasicek) model"
   ]
  },
  {
   "cell_type": "markdown",
   "metadata": {},
   "source": [
    "\n",
    "### The OU Equation\n",
    "\n",
    "The stochastic differential equation (SDE) for the Ornstein-Uhlenbeck process is given by:\n",
    "\n",
    "$$ {dS}_{t}= \\alpha(\\mu - {S}_{t}){dt} + \\sigma{dW}_{t}$$\n",
    "\n",
    "with $\\alpha$ the mean reversion rate, $\\mu$ the long-term mean, $\\sigma$ the volatility\n",
    "\n",
    "### Calibration using least squres regression \n",
    "\n",
    "The relationship between consecutive observation ${S}_{i}, {S}_{i+1}$ in linear with a iid normal random term $\\epsilon$:\n",
    "\n",
    "$$ {S}_{i+1} = {aS}_{i} + {b} + {\\epsilon}$$\n",
    "\n",
    "The relationship between the linear fit and model parameters is given by:\n",
    "\n",
    "$$ {a} = {e}^{{-\\alpha} {\\delta}} $$\n",
    "\n",
    "$$ {b} = {\\mu}(1- {e}^{{-\\alpha} {\\delta}}) $$\n",
    "\n",
    "$$ {sd}({\\epsilon}) = {\\sigma} \\sqrt{\\frac{1- {e}^{{-2\\alpha} {\\delta}}}{2\\alpha}} $$\n",
    "\n",
    "rewriting these equations gives,\n",
    "\n",
    "$$ \\alpha = - \\frac{\\ln{a}}{\\delta} $$\n",
    "\n",
    "$$ \\mu = \\frac{b}{1-a}$$\n",
    "\n",
    "$$ \\sigma = {sd}(\\epsilon) \\sqrt{\\frac{-2\\ln{a}}{\\delta(1-a^2)}} $$\n"
   ]
  },
  {
   "cell_type": "code",
   "execution_count": 8,
   "metadata": {},
   "outputs": [],
   "source": [
    "#import sample data \n",
    "import pandas as pd \n",
    "import numpy as np\n",
    "df = pd.read_csv('sample_set.csv')"
   ]
  },
  {
   "cell_type": "code",
   "execution_count": 9,
   "metadata": {},
   "outputs": [
    {
     "name": "stdout",
     "output_type": "stream",
     "text": [
      "                            OLS Regression Results                            \n",
      "==============================================================================\n",
      "Dep. Variable:                   orig   R-squared:                       0.905\n",
      "Model:                            OLS   Adj. R-squared:                  0.905\n",
      "Method:                 Least Squares   F-statistic:                 1.042e+05\n",
      "Date:                Thu, 11 Feb 2021   Prob (F-statistic):               0.00\n",
      "Time:                        12:43:43   Log-Likelihood:                 48802.\n",
      "No. Observations:               10934   AIC:                        -9.760e+04\n",
      "Df Residuals:                   10932   BIC:                        -9.759e+04\n",
      "Df Model:                           1                                         \n",
      "Covariance Type:            nonrobust                                         \n",
      "==============================================================================\n",
      "                 coef    std err          t      P>|t|      [0.025      0.975]\n",
      "------------------------------------------------------------------------------\n",
      "const         -0.0003   3.41e-05    -10.231      0.000      -0.000      -0.000\n",
      "t1             0.9515      0.003    322.855      0.000       0.946       0.957\n",
      "==============================================================================\n",
      "Omnibus:                     1407.574   Durbin-Watson:                   1.973\n",
      "Prob(Omnibus):                  0.000   Jarque-Bera (JB):            17141.238\n",
      "Skew:                          -0.062   Prob(JB):                         0.00\n",
      "Kurtosis:                       9.133   Cond. No.                         111.\n",
      "==============================================================================\n",
      "\n",
      "Warnings:\n",
      "[1] Standard Errors assume that the covariance matrix of the errors is correctly specified.\n"
     ]
    }
   ],
   "source": [
    "# import statsmodels.api to utilise their OLSregression function\n",
    "import statsmodels.api as sm\n",
    "# using sample data, create X and y values \n",
    "X = df['t1']\n",
    "y = df['orig']\n",
    "\n",
    "#add a constant to the model show as 'const' in results\n",
    "X = sm.add_constant(X)\n",
    "\n",
    "#fit the model\n",
    "results = sm.OLS(y,X).fit()\n",
    "\n",
    "#display regression results\n",
    "print (results.summary())"
   ]
  },
  {
   "cell_type": "code",
   "execution_count": 10,
   "metadata": {},
   "outputs": [],
   "source": [
    "# ~~~~~~~~~~~~~~~~~~~~~~~~~~~~~~~~~~~~~~\n",
    "# ~~~~~ FUNCTION: OU_calibration ~~~~~~~\n",
    "# ~~~~~~~~~~~~~~~~~~~~~~~~~~~~~~~~~~~~~~\n",
    "# Inputs:\n",
    "#     - df - dataframe containing the prices for each asset \n",
    "#     - spread - list containing thename of each asset in the spread \n",
    "# The function:\n",
    "# Using user inputs the fnction will determine regression results, \n",
    "# to then be used to calibrate the OU process shown in equations above\n",
    "    \n",
    "    \n",
    "def OU_calibration(df, spread):\n",
    "    # get namefor asset A & B\n",
    "    A = spread[0]\n",
    "    B = spread[1]\n",
    "    \n",
    "    # Get log spread\n",
    "    df['spread'] = np.log((df[A] / df[B]))\n",
    "    # shift the spread\n",
    "    df['shift'] = df.spread.shift()\n",
    "    df.loc[0, 'shift'] = 0\n",
    "    \n",
    "    # using sample data, create X and y values \n",
    "    X = df['shift']\n",
    "    y = df['spread']\n",
    "    # add constant \n",
    "    X = sm.add_constant(X)\n",
    "    \n",
    "    # fit using OLS regression\n",
    "    results = sm.OLS(y,X).fit()\n",
    "    \n",
    "    #store order\n",
    "    order = A, B\n",
    "    \n",
    "    # check results if results.params[0] < 0, flip the order of the spread\n",
    "    \n",
    "    if results.params[0] < 0:\n",
    "        df['spread'] = np.log((df[B] / df[A]))\n",
    "        df['shift'] = df.spread.shift()\n",
    "        df.loc[0, 'shift'] = 0\n",
    "        X = df['shift']\n",
    "        y = df['spread']\n",
    "        X = sm.add_constant(X)\n",
    "        results = sm.OLS(y,X).fit()\n",
    "        order = B, A\n",
    "        \n",
    "    # return results \n",
    "    return results.params[0], results.params[1], results.bse[1], order"
   ]
  },
  {
   "cell_type": "code",
   "execution_count": 11,
   "metadata": {},
   "outputs": [
    {
     "data": {
      "text/plain": [
       "(0.00035012565107297875,\n",
       " 0.9513944476006523,\n",
       " 0.0029479606003722,\n",
       " ('CO2', 'CO1'))"
      ]
     },
     "execution_count": 11,
     "metadata": {},
     "output_type": "execute_result"
    }
   ],
   "source": [
    "OU_calibration(df, ('CO1', 'CO2'))"
   ]
  },
  {
   "cell_type": "code",
   "execution_count": 12,
   "metadata": {},
   "outputs": [
    {
     "name": "stdout",
     "output_type": "stream",
     "text": [
      "alpha:  0.0001663138293781909\n",
      "mu:  7.215874924836692\n",
      "sigma:  0.012301022844224662\n"
     ]
    }
   ],
   "source": [
    "#Validation of daily results\n",
    "# as seen in the validation section of the report \n",
    "import numpy as np\n",
    "a = 0.9998337\n",
    "b=0.0012\n",
    "sde=0.0123\n",
    "\n",
    "alpha = -np.log(a)\n",
    "mu = b/(1-a)\n",
    "sigma =sde*np.sqrt((-2*np.log(a))/(1-a*a))\n",
    "\n",
    "print ('alpha: ', alpha)\n",
    "print ('mu: ',mu)\n",
    "print('sigma: ', sigma)"
   ]
  },
  {
   "cell_type": "code",
   "execution_count": 13,
   "metadata": {},
   "outputs": [
    {
     "name": "stdout",
     "output_type": "stream",
     "text": [
      "alpha:  0.04971559224593286\n",
      "mu:  7.1154639175257755\n",
      "sigma:  0.19535703522704506\n"
     ]
    }
   ],
   "source": [
    "#Validation of annual results\n",
    "# as seen in the validation section of the report \n",
    "import numpy as np\n",
    "a = 0.9515\n",
    "b=0.3451\n",
    "sde=0.1906\n",
    "\n",
    "alpha = -np.log(a)\n",
    "mu = b/(1-a)\n",
    "sigma =sde*np.sqrt((-2*np.log(a))/(1-a*a))\n",
    "\n",
    "print ('alpha: ', alpha)\n",
    "print ('mu: ',mu)\n",
    "print('sigma: ', sigma)"
   ]
  }
 ],
 "metadata": {
  "kernelspec": {
   "display_name": "Python 3",
   "language": "python",
   "name": "python3"
  },
  "language_info": {
   "codemirror_mode": {
    "name": "ipython",
    "version": 3
   },
   "file_extension": ".py",
   "mimetype": "text/x-python",
   "name": "python",
   "nbconvert_exporter": "python",
   "pygments_lexer": "ipython3",
   "version": "3.7.3"
  }
 },
 "nbformat": 4,
 "nbformat_minor": 2
}
