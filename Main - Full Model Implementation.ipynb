{
 "cells": [
  {
   "cell_type": "markdown",
   "metadata": {},
   "source": [
    "## Full Model implementation and backtest\n",
    "\n",
    "from my report this file produces the end-to-end process of:\n",
    "- Sourcing historical data for two given oil contracts and creating a log spread for the two contracts\n",
    "- Calibrating the above log-spread to the general OU process \n",
    "- Storing estimates for $\\alpha$, $\\mu$ & $\\sigma$ to be used throughout the implementation\n",
    "- Estimate transaction costs,$c$, for entering a trade in the specific spread \n",
    "- Determine optimal entry threshold, $a$ & $m$, using Bertram’s maximum expected return formula with $\\alpha$,$\\sigma$,$c$ (found previously) as inputs\n",
    "- Adjust $a$ & $m$ by long run mean, $\\mu$, to obtain $\\hat{a}$ & $\\hat{m}$ as above\n",
    "- Run an out-of-sample backtest executing trades from $\\hat{a}\\rightarrow\\ \\hat{m}$ as well as the transition back from $\\hat{m}\\rightarrow\\ \\hat{a}$.\n",
    "\n",
    "This process is repeated and tested on every posible contract combinationand output files are stored as such:\n",
    "\n",
    "- parameter estimates: 'results_set_1.csv', 'results_set_2.csv', 'results_set_3.csv', 'results_set_4.csv' \n",
    "\n",
    "- backtest results: 'bt_results_1.csv', 'bt_results_2.csv', 'bt_results_3.csv', 'bt_results_4.csv'\n",
    "\n",
    "Functions in this file have been validated in other files, please refer to:\n",
    "\n",
    "- 'Validation1- Calibrating the OU.ipynb'\n",
    "- 'Validation2- Mac Expected Return.ipynb'\n",
    "- 'Validation3- Backtester.ipynb' \n",
    "\n",
    "for further resources, detailsand validation"
   ]
  },
  {
   "cell_type": "markdown",
   "metadata": {},
   "source": [
    "### Import data and functions to be used "
   ]
  },
  {
   "cell_type": "code",
   "execution_count": 108,
   "metadata": {},
   "outputs": [],
   "source": [
    "import pandas as pd\n",
    "\n",
    "# import dataset \n",
    "df = pd.read_csv('full_set.csv')\n",
    "df = df.dropna()\n",
    "#create list of all contractsin dataframe\n",
    "cols = list(df.columns)\n",
    "#remove date colums\n",
    "cols = cols[1:]\n",
    "\n",
    "\n",
    "# Generate list of all possible pairs\n",
    "# Using list comprehension + enumerate() \n",
    "res = [(a, b) for idx, a in enumerate(cols) for b in cols[idx + 1:]] \n",
    "\n",
    "\n",
    "#FUNCTION\n",
    "# calc_tc\n",
    "# calculates transaction costs for a given spread to be used for maximising expected return\n",
    "def calc_tc(spread):\n",
    "    tcs = {'CO': 0.000289,\n",
    "          'CL': 0.000940,\n",
    "          'HO': 0.002482,\n",
    "          'QS': 0.002482,\n",
    "          'XB': 0.002482}\n",
    "    return tcs[spread[0][0:2]] + tcs[spread[0][0:2]]"
   ]
  },
  {
   "cell_type": "code",
   "execution_count": 6,
   "metadata": {},
   "outputs": [],
   "source": [
    "### function - implementaion of maximum expected return\n",
    "### inputs:\n",
    "### a - value for alpha\n",
    "### n - value for eta\n",
    "### c - transaction costs\n",
    "### returns:\n",
    "### res - rseult for a using eq. (18)\n",
    "\n",
    "\n",
    "def mer(a,n,c):\n",
    "    var1 = -c/4\n",
    "    denom1 = (c**3*a**3) + (24*c*a**2*n**2)\n",
    "    denom2 = 4*(np.sqrt(((3*c**4*a**5*n**2) + (36*c**2*a**4*n**4))))\n",
    "    denom3 = 4 * ((denom1 - denom2)**(1/3))\n",
    "    var2 = (c**2*a) / denom3\n",
    "    numer1 = c**3*a**3 + (24*c*a**2*n**2)\n",
    "    numer2 = 4 * np.sqrt((3*c**4*a**5*n**2 + 36*c**2*a**4*n**4))\n",
    "    numer3 = ((numer1 - numer2))**(1/3)\n",
    "    var3 = numer3 / (4*a)\n",
    "    res = var1 - var2 - var3\n",
    "    return res"
   ]
  },
  {
   "cell_type": "code",
   "execution_count": 51,
   "metadata": {},
   "outputs": [],
   "source": [
    "import statsmodels.api as sm\n",
    "import numpy as np\n",
    "def OU_calibration(df, spread):\n",
    "    dummy_df = pd.DataFrame()\n",
    "    A = spread[0]\n",
    "    B = spread[1]\n",
    "    df['spread'] = np.log((df[B] / df[A]))\n",
    "    df['shift'] = df.spread.shift()\n",
    "    df.loc[0, 'shift'] = 0\n",
    "    X = df['shift'].fillna(0)\n",
    "    y = df['spread'].fillna(0)\n",
    "    X = sm.add_constant(X)\n",
    "    results = sm.OLS(y,X).fit()\n",
    "    order = B, A\n",
    "    \n",
    "    if results.params[0] < 0:\n",
    "        df['spread'] = np.log((df[A] / df[B]))\n",
    "        df['shift'] = df.spread.shift()\n",
    "        df.loc[0, 'shift'] = 0\n",
    "        X = df['shift'].fillna(0)\n",
    "        y = df['spread'].fillna(0)\n",
    "        X = sm.add_constant(X)\n",
    "        results = sm.OLS(y,X).fit()\n",
    "        order = A, B\n",
    "        \n",
    "    \n",
    "    a, b, sde= results.params[1], results.params[0], results.bse[1]\n",
    "    \n",
    "    alpha = -np.log(a) \n",
    "    mu = b/(1-a)\n",
    "    sigma =sde*np.sqrt((-2*np.log(a))/(((1-a*a))))\n",
    "    \n",
    "    return alpha, mu,sigma, order\n"
   ]
  },
  {
   "cell_type": "code",
   "execution_count": 52,
   "metadata": {},
   "outputs": [],
   "source": [
    "#create 4 test set dataframes for parameter estimation\n",
    "split =int(len(df)/6)\n",
    "\n",
    "test_set_1 =pd.DataFrame(df[0:split])\n",
    "\n",
    "test_set_2 = pd.DataFrame(df[split:(split*2)])\n",
    "\n",
    "test_set_3 = pd.DataFrame(df[(split*2):(split*3)])\n",
    "\n",
    "test_set_4 = pd.DataFrame(df[(split*3):(split*4)])\n",
    "\n"
   ]
  },
  {
   "cell_type": "markdown",
   "metadata": {},
   "source": [
    "### Parameter estimation\n",
    "Now that data has been imported in, functions imported and datasets created for testingnow results sets are calibrated.\n",
    "the below code will:\n",
    "\n",
    "- Calibrating every spread to the general OU process \n",
    "- Store estimates for $\\alpha$, $\\mu$ & $\\sigma$ \n",
    "- Estimate transaction costs,$c$, for entering a trade in the specific spread \n",
    "- Determine optimal entry threshold, $a$ & $m$, using Bertram’s maximum expected return formula with $\\alpha$,$\\sigma$,$c$ (found previously) as inputs\n",
    "\n",
    "this is done across every spread and every test set create 1200 implementations for the model"
   ]
  },
  {
   "cell_type": "code",
   "execution_count": 53,
   "metadata": {},
   "outputs": [],
   "source": [
    "results_set_1 =pd.DataFrame()\n",
    "for i in range(0,len(res)):\n",
    "    spread = res[i]\n",
    "    alpha, mu,sigma, order = OU_calibration(test_set_1, spread)\n",
    "    c= calc_tc(order) \n",
    "    a = mer(alpha,sigma,c)\n",
    "    #print (order, alpha, mu,sigma,c,a)\n",
    "    results_set_1 = results_set_1.append(\n",
    "            {  'spread': order, \n",
    "               'alpha': alpha,\n",
    "               'mu':mu,\n",
    "               'sigma':sigma,\n",
    "               't_c': c,\n",
    "               'a':a}, ignore_index=True)\n",
    "\n",
    "results_set_2 =pd.DataFrame()\n",
    "for i in range(0,len(res)):\n",
    "    spread = res[i]\n",
    "    alpha, mu,sigma, order = OU_calibration(test_set_2, spread)\n",
    "    c= calc_tc(order)\n",
    "    a = mer(alpha,sigma,c)\n",
    "    #print (order, alpha, mu,sigma,c,a)\n",
    "    results_set_2 = results_set_2.append(\n",
    "            {  'spread': order, \n",
    "               'alpha': alpha,\n",
    "               'mu':mu,\n",
    "               'sigma':sigma,\n",
    "               't_c': c,\n",
    "               'a':a}, ignore_index=True)\n",
    "    \n",
    "results_set_3 =pd.DataFrame()\n",
    "for i in range(0,len(res)):\n",
    "    spread = res[i]\n",
    "    alpha, mu,sigma, order = OU_calibration(test_set_3, spread)\n",
    "    c= calc_tc(order)\n",
    "    a = mer(alpha,sigma,c)\n",
    "    #print (order, alpha, mu,sigma,c,a)\n",
    "    results_set_3 = results_set_3.append(\n",
    "            {  'spread': order, \n",
    "               'alpha': alpha,\n",
    "               'mu':mu,\n",
    "               'sigma':sigma,\n",
    "               't_c': c,\n",
    "               'a':a}, ignore_index=True)\n",
    "    \n",
    "results_set_4 =pd.DataFrame()\n",
    "for i in range(0,len(res)):\n",
    "    spread = res[i]\n",
    "    alpha, mu,sigma, order = OU_calibration(test_set_4, spread)\n",
    "    c= calc_tc(order)\n",
    "    a = mer(alpha,sigma,c)\n",
    "    #print (order, alpha, mu,sigma,c,a)\n",
    "    results_set_4 = results_set_4.append(\n",
    "            {  'spread': order, \n",
    "               'alpha': alpha,\n",
    "               'mu':mu,\n",
    "               'sigma':sigma,\n",
    "               't_c': c,\n",
    "               'a':a}, ignore_index=True)\n",
    "\n"
   ]
  },
  {
   "cell_type": "markdown",
   "metadata": {},
   "source": [
    "### Backtesting "
   ]
  },
  {
   "cell_type": "code",
   "execution_count": 91,
   "metadata": {},
   "outputs": [],
   "source": [
    "# becktester function\n",
    "#for further details read backtester validation\n",
    "\n",
    "def backtester(a, mu, order, oil_data):\n",
    "    bt_df = pd.DataFrame()\n",
    "    bt_df['spread'] = np.log((oil_data[order[0]]/oil_data[order[1]]))\n",
    "    bt_df['A_returns'] = np.log(oil_data[order[0]]/oil_data[order[0]].shift(1))\n",
    "    bt_df['B_returns'] = np.log(oil_data[order[1]]/oil_data[order[1]].shift(1))\n",
    "    \n",
    "    entry = a + mu\n",
    "    exit = -1*a + mu\n",
    "    \n",
    "    bt_df['Long_short'] = 0\n",
    "    bt_df['Long_short'] = np.where(bt_df.spread < entry, 1, bt_df.Long_short)\n",
    "    bt_df['Long_short'] = np.where(bt_df.spread > exit, -1, bt_df.Long_short)\n",
    "    \n",
    "    bt_df['Long_short_fill'] =  bt_df['Long_short'].replace(to_replace=0, method='ffill')\n",
    "    \n",
    "\n",
    "    bt_df['pnl'] = bt_df.Long_short_fill * bt_df.B_returns - bt_df.Long_short_fill * bt_df.A_returns\n",
    "    \n",
    "    total_return = bt_df.pnl.sum()\n",
    "    \n",
    "    sharpe = bt_df.pnl.mean() / bt_df.pnl.std() * np.sqrt(252)\n",
    "    \n",
    "    mean_return = bt_df.pnl.mean()\n",
    "    \n",
    "    trade_count = 0 \n",
    "    for i in range(1,len(bt_df)):\n",
    "        if bt_df.loc[i, 'Long_short_fill'] != bt_df.loc[i-1, 'Long_short_fill']:\n",
    "            trade_count += 1\n",
    "            \n",
    "    if trade_count != 0:\n",
    "        avg_hold_time = len(bt_df) / trade_count\n",
    "    else:\n",
    "        avg_hold_time = 0 \n",
    "    return total_return, mean_return, sharpe, trade_count, avg_hold_time\n",
    "    "
   ]
  },
  {
   "cell_type": "code",
   "execution_count": 92,
   "metadata": {},
   "outputs": [],
   "source": [
    "#create 4 test set dataframes for parameter estimation\n",
    "split =int(len(df)/6)\n",
    "\n",
    "val_set_1 =pd.DataFrame(df[split:(split*3)])\n",
    "val_set_1 = val_set_1.reset_index()\n",
    "\n",
    "val_set_2 = pd.DataFrame(df[(split*2):(split*4)])\n",
    "val_set_2 = val_set_2.reset_index()\n",
    "\n",
    "val_set_3 = pd.DataFrame(df[(split*3):(split*5)])\n",
    "val_set_3 = val_set_3.reset_index()\n",
    "\n",
    "val_set_4 = pd.DataFrame(df[(split*4):])\n",
    "val_set_4 = val_set_4.reset_index()\n",
    "\n"
   ]
  },
  {
   "cell_type": "markdown",
   "metadata": {},
   "source": [
    "The below code completes the final process of the model running the full 1200 backtests storing each result in backtestoutput files\n",
    "\n",
    "the below code will:\n",
    "- Adjust $a$ & $m$ by long run mean, $\\mu$, to obtain $\\hat{a}$ & $\\hat{m}$ as above\n",
    "- Run an out-of-sample backtest executing trades from $\\hat{a}\\rightarrow\\ \\hat{m}$ as well as the transition back from $\\hat{m}\\rightarrow\\ \\hat{a}$.\n"
   ]
  },
  {
   "cell_type": "code",
   "execution_count": 93,
   "metadata": {},
   "outputs": [
    {
     "name": "stderr",
     "output_type": "stream",
     "text": [
      "c:\\users\\mat\\appdata\\local\\programs\\python\\python37-32\\lib\\site-packages\\ipykernel_launcher.py:21: RuntimeWarning: invalid value encountered in double_scalars\n",
      "c:\\users\\mat\\appdata\\local\\programs\\python\\python37-32\\lib\\site-packages\\ipykernel_launcher.py:3: RuntimeWarning: invalid value encountered in log\n",
      "  This is separate from the ipykernel package so we can avoid doing imports until\n",
      "c:\\users\\mat\\appdata\\local\\programs\\python\\python37-32\\lib\\site-packages\\ipykernel_launcher.py:4: RuntimeWarning: invalid value encountered in log\n",
      "  after removing the cwd from sys.path.\n",
      "c:\\users\\mat\\appdata\\local\\programs\\python\\python37-32\\lib\\site-packages\\ipykernel_launcher.py:5: RuntimeWarning: invalid value encountered in log\n",
      "  \"\"\"\n"
     ]
    }
   ],
   "source": [
    "bt_results_1 =pd.DataFrame()\n",
    "for i in range(0,len(results_set_4)):\n",
    "    total_return, mean_return, sharpe, trade_count, avg_hold_time = backtester(results_set_1.loc[i, 'a'], \n",
    "                                                                               results_set_1.loc[i, 'mu'], \n",
    "                                                                               results_set_1.loc[i, 'spread'], \n",
    "                                                                               val_set_1)\n",
    "    \n",
    "    #print (total_return, mean_return, sharpe, trade_count, avg_hold_time)\n",
    "    bt_results_1 = bt_results_1.append(\n",
    "            {  'spread': results_set_1.loc[i, 'spread'], \n",
    "               'total return': total_return,\n",
    "               'mean return':mean_return,\n",
    "               'sharpe':sharpe,\n",
    "               'trade count': trade_count,\n",
    "               'average hold time':avg_hold_time}, ignore_index=True)\n",
    "    \n",
    "bt_results_2 =pd.DataFrame()\n",
    "for i in range(0,len(results_set_4)):\n",
    "    total_return, mean_return, sharpe, trade_count, avg_hold_time = backtester(results_set_2.loc[i, 'a'], \n",
    "                                                                               results_set_2.loc[i, 'mu'], \n",
    "                                                                               results_set_2.loc[i, 'spread'], \n",
    "                                                                               val_set_2)\n",
    "    \n",
    "    #print (total_return, mean_return, sharpe, trade_count, avg_hold_time)\n",
    "    bt_results_2 = bt_results_2.append(\n",
    "            {  'spread': results_set_2.loc[i, 'spread'], \n",
    "               'total return': total_return,\n",
    "               'mean return':mean_return,\n",
    "               'sharpe':sharpe,\n",
    "               'trade count': trade_count,\n",
    "               'average hold time':avg_hold_time}, ignore_index=True)\n",
    "    \n",
    "bt_results_3 =pd.DataFrame()\n",
    "for i in range(0,len(results_set_4)):\n",
    "    total_return, mean_return, sharpe, trade_count, avg_hold_time = backtester(results_set_3.loc[i, 'a'], \n",
    "                                                                               results_set_3.loc[i, 'mu'], \n",
    "                                                                               results_set_3.loc[i, 'spread'], \n",
    "                                                                               val_set_3)\n",
    "    \n",
    "    #print (total_return, mean_return, sharpe, trade_count, avg_hold_time)\n",
    "    bt_results_3 = bt_results_3.append(\n",
    "            {  'spread': results_set_3.loc[i, 'spread'], \n",
    "               'total return': total_return,\n",
    "               'mean return':mean_return,\n",
    "               'sharpe':sharpe,\n",
    "               'trade count': trade_count,\n",
    "               'average hold time':avg_hold_time}, ignore_index=True)\n",
    "    \n",
    "bt_results_4 =pd.DataFrame()\n",
    "for i in range(0,len(results_set_4)):\n",
    "    total_return, mean_return, sharpe, trade_count, avg_hold_time = backtester(results_set_4.loc[i, 'a'], \n",
    "                                                                               results_set_4.loc[i, 'mu'], \n",
    "                                                                               results_set_4.loc[i, 'spread'], \n",
    "                                                                               val_set_4)\n",
    "    \n",
    "    #print (total_return, mean_return, sharpe, trade_count, avg_hold_time)\n",
    "    bt_results_4 = bt_results_4.append(\n",
    "            {  'spread': results_set_4.loc[i, 'spread'], \n",
    "               'total return': total_return,\n",
    "               'mean return':mean_return,\n",
    "               'sharpe':sharpe,\n",
    "               'trade count': trade_count,\n",
    "               'average hold time':avg_hold_time}, ignore_index=True)\n",
    "    \n"
   ]
  },
  {
   "cell_type": "markdown",
   "metadata": {},
   "source": [
    "### Store results\n",
    "### Data Visualisations\n",
    "### Performance evaluation\n",
    "\n",
    "This code createsresources that willbe referenced and discussed more in the written report "
   ]
  },
  {
   "cell_type": "code",
   "execution_count": 96,
   "metadata": {},
   "outputs": [],
   "source": [
    "results_set_1.to_csv('results_set_1.csv')\n",
    "results_set_2.to_csv('results_set_2.csv')\n",
    "results_set_3.to_csv('results_set_3.csv')\n",
    "results_set_4.to_csv('results_set_4.csv')\n",
    "\n",
    "bt_results_1.to_csv('bt_results_1.csv')\n",
    "bt_results_2.to_csv('bt_results_2.csv')\n",
    "bt_results_3.to_csv('bt_results_3.csv')\n",
    "bt_results_4.to_csv('bt_results_4.csv')"
   ]
  },
  {
   "cell_type": "code",
   "execution_count": 95,
   "metadata": {},
   "outputs": [
    {
     "data": {
      "image/png": "[encoded data removed]",
      "text/plain": [
       "<Figure size 432x288 with 1 Axes>"
      ]
     },
     "metadata": {
      "needs_background": "light"
     },
     "output_type": "display_data"
    }
   ],
   "source": [
    "import matplotlib.pyplot as plt \n",
    "\n",
    "plt.hist(bt_results_1['mean return'], bins=50, color='c', edgecolor='k', alpha=0.65)\n",
    "plt.axvline(-0, color='red', linestyle = 'dashed', linewidth =2)\n",
    "plt.title('Distribution of daily mean returns: backtest set 1')\n",
    "plt.legend(['Zero-mean', 'Trade strategy mean return'])\n",
    "plt.show()"
   ]
  },
  {
   "cell_type": "code",
   "execution_count": 97,
   "metadata": {},
   "outputs": [
    {
     "data": {
      "image/png": "[encoded data removed]",
      "text/plain": [
       "<Figure size 432x288 with 1 Axes>"
      ]
     },
     "metadata": {
      "needs_background": "light"
     },
     "output_type": "display_data"
    }
   ],
   "source": [
    "plt.hist(bt_results_2['mean return'], bins=50, color='c', edgecolor='k', alpha=0.65)\n",
    "plt.axvline(-0, color='red', linestyle = 'dashed', linewidth =2)\n",
    "plt.title('Distribution of daily mean returns: backtest set 2')\n",
    "plt.legend(['Zero-mean', 'Trade strategy mean return'])\n",
    "plt.show()"
   ]
  },
  {
   "cell_type": "code",
   "execution_count": 98,
   "metadata": {},
   "outputs": [
    {
     "data": {
      "image/png": "[encoded data removed]",
      "text/plain": [
       "<Figure size 432x288 with 1 Axes>"
      ]
     },
     "metadata": {
      "needs_background": "light"
     },
     "output_type": "display_data"
    }
   ],
   "source": [
    "plt.hist(bt_results_3['mean return'], bins=50, color='c', edgecolor='k', alpha=0.65)\n",
    "plt.axvline(-0, color='red', linestyle = 'dashed', linewidth =2)\n",
    "plt.title('Distribution of daily mean returns: backtest set 3')\n",
    "plt.legend(['Zero-mean', 'Trade strategy mean return'])\n",
    "plt.show()"
   ]
  },
  {
   "cell_type": "code",
   "execution_count": 99,
   "metadata": {},
   "outputs": [
    {
     "data": {
      "image/png": "[encoded data removed]",
      "text/plain": [
       "<Figure size 432x288 with 1 Axes>"
      ]
     },
     "metadata": {
      "needs_background": "light"
     },
     "output_type": "display_data"
    }
   ],
   "source": [
    "plt.hist(bt_results_4['mean return'], bins=50, color='c', edgecolor='k', alpha=0.65)\n",
    "plt.axvline(-0, color='red', linestyle = 'dashed', linewidth =2)\n",
    "plt.title('Distribution of daily mean returns: backtest set 4')\n",
    "plt.legend(['Zero-mean', 'Trade strategy mean return'])\n",
    "plt.show()"
   ]
  },
  {
   "cell_type": "code",
   "execution_count": 107,
   "metadata": {},
   "outputs": [
    {
     "name": "stdout",
     "output_type": "stream",
     "text": [
      "119\n",
      "5.074679998352573e-06\n",
      "-0.05567647461305129\n",
      "0.003049882679009889\n",
      "6.456666666666667\n",
      "146.3881350986599\n",
      "1.3893374070165883\n"
     ]
    }
   ],
   "source": [
    "print (len(bt_results_1.loc[bt_results_1['mean return'] >0 ]))\n",
    "print (bt_results_1['mean return'].mean())\n",
    "print (bt_results_1['sharpe'].mean())\n",
    "print (bt_results_1['total return'].mean())\n",
    "print (bt_results_1['trade count'].mean())\n",
    "print (bt_results_1['average hold time'].mean())\n",
    "print (bt_results_1['sharpe'].max())"
   ]
  },
  {
   "cell_type": "markdown",
   "metadata": {},
   "source": []
  },
  {
   "cell_type": "code",
   "execution_count": 106,
   "metadata": {},
   "outputs": [
    {
     "name": "stdout",
     "output_type": "stream",
     "text": [
      "136\n",
      "2.554916668913911e-05\n",
      "-0.0019030193254647512\n",
      "0.015355049180172603\n",
      "3.546666666666667\n",
      "234.3005516705517\n",
      "1.211319363147012\n"
     ]
    }
   ],
   "source": [
    "print (len(bt_results_2.loc[bt_results_2['mean return'] >0 ]))\n",
    "print (bt_results_2['mean return'].mean())\n",
    "print (bt_results_2['sharpe'].mean())\n",
    "print (bt_results_2['total return'].mean())\n",
    "print (bt_results_2['trade count'].mean())\n",
    "print (bt_results_2['average hold time'].mean())\n",
    "print (bt_results_2['sharpe'].max())"
   ]
  },
  {
   "cell_type": "code",
   "execution_count": 105,
   "metadata": {},
   "outputs": [
    {
     "name": "stdout",
     "output_type": "stream",
     "text": [
      "231\n",
      "0.00012200366581670459\n",
      "0.18201815220494555\n",
      "0.07332420315583946\n",
      "3.0166666666666666\n",
      "194.40897860962565\n",
      "0.8119717757798565\n"
     ]
    }
   ],
   "source": [
    "print (len(bt_results_3.loc[bt_results_3['mean return'] >0 ]))\n",
    "print (bt_results_3['mean return'].mean())\n",
    "print (bt_results_3['sharpe'].mean())\n",
    "print (bt_results_3['total return'].mean())\n",
    "print (bt_results_3['trade count'].mean())\n",
    "print (bt_results_3['average hold time'].mean())\n",
    "print (bt_results_3['sharpe'].max())"
   ]
  },
  {
   "cell_type": "code",
   "execution_count": 103,
   "metadata": {},
   "outputs": [
    {
     "name": "stdout",
     "output_type": "stream",
     "text": [
      "175\n",
      "0.00011393680603696679\n",
      "0.07613989038106037\n",
      "1.0582007238542632\n",
      "0.06910536585608021\n",
      "6.793333333333333\n",
      "139.42429360944067\n"
     ]
    }
   ],
   "source": [
    "print (len(bt_results_4.loc[bt_results_4['mean return'] >0 ]))\n",
    "print (bt_results_4['mean return'].mean())\n",
    "print (bt_results_4['sharpe'].mean())\n",
    "print (bt_results_4['sharpe'].max())\n",
    "print (bt_results_4['total return'].mean())\n",
    "print (bt_results_4['trade count'].mean())\n",
    "print (bt_results_4['average hold time'].mean())"
   ]
  },
  {
   "cell_type": "code",
   "execution_count": null,
   "metadata": {},
   "outputs": [],
   "source": []
  },
  {
   "cell_type": "code",
   "execution_count": null,
   "metadata": {},
   "outputs": [],
   "source": []
  }
 ],
 "metadata": {
  "kernelspec": {
   "display_name": "Python 3",
   "language": "python",
   "name": "python3"
  },
  "language_info": {
   "codemirror_mode": {
    "name": "ipython",
    "version": 3
   },
   "file_extension": ".py",
   "mimetype": "text/x-python",
   "name": "python",
   "nbconvert_exporter": "python",
   "pygments_lexer": "ipython3",
   "version": "3.7.3"
  }
 },
 "nbformat": 4,
 "nbformat_minor": 4
}
